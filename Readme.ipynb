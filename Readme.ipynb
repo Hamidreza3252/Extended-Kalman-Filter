{
 "cells": [
  {
   "cell_type": "code",
   "execution_count": 1,
   "metadata": {},
   "outputs": [
    {
     "data": {
      "text/html": [
       "<style>.container { width:90% !important; }</style>"
      ],
      "text/plain": [
       "<IPython.core.display.HTML object>"
      ]
     },
     "metadata": {},
     "output_type": "display_data"
    }
   ],
   "source": [
    "from IPython.core.display import display, HTML\n",
    "display(HTML(\"<style>.container { width:90% !important; }</style>\"))"
   ]
  },
  {
   "cell_type": "code",
   "execution_count": null,
   "metadata": {},
   "outputs": [],
   "source": []
  },
  {
   "cell_type": "code",
   "execution_count": 2,
   "metadata": {},
   "outputs": [],
   "source": [
    "import pandas as pd\n",
    "import numpy as np\n",
    "from sklearn import preprocessing\n",
    "import os\n",
    "from random import shuffle\n",
    "import glob\n",
    "from pathlib import Path\n",
    "\n",
    "import matplotlib.pyplot as plt\n",
    "import math\n",
    "import datetime\n"
   ]
  },
  {
   "cell_type": "code",
   "execution_count": 3,
   "metadata": {},
   "outputs": [],
   "source": [
    "lrResultsCsv = pd.read_csv(\"results/01-results-LR.csv\", sep=\",\", header=\"infer\", delim_whitespace=False)\n",
    "lResultsCsv = pd.read_csv(\"results/02-results-L.csv\", sep=\",\", header=\"infer\", delim_whitespace=False)\n",
    "rResultsCsv = pd.read_csv(\"results/03-results-R.csv\", sep=\",\", header=\"infer\", delim_whitespace=False)"
   ]
  },
  {
   "cell_type": "code",
   "execution_count": null,
   "metadata": {},
   "outputs": [],
   "source": []
  },
  {
   "cell_type": "code",
   "execution_count": 4,
   "metadata": {},
   "outputs": [],
   "source": [
    "sensorTypeValues = lrResultsCsv[\"Sensor Type\"].values\n",
    "\n",
    "xStates = {\"LR\" :lrResultsCsv[\"x\"].values[:-1], \"L\" :lResultsCsv[\"x\"].values[:-1], \"R\": rResultsCsv[\"x\"].values[:-1]}\n",
    "yStates = {\"LR\" :lrResultsCsv[\"y\"].values[:-1], \"L\" :lResultsCsv[\"y\"].values[:-1], \"R\": rResultsCsv[\"y\"].values[:-1]}\n",
    "xDotStates = {\"LR\" :lrResultsCsv[\"x dot\"].values[:-1], \"L\" :lResultsCsv[\"x dot\"].values[:-1], \"R\": rResultsCsv[\"x dot\"].values[:-1]}\n",
    "yDotStates = {\"LR\" :lrResultsCsv[\"y dot\"].values[:-1], \"L\" :lResultsCsv[\"y dot\"].values[:-1], \"R\": rResultsCsv[\"y dot\"].values[:-1]}\n",
    "\n",
    "phiStates =  {\"LR\": lrResultsCsv[\"phi\"].values[1:-1:2].astype(np.float), \n",
    "              \"R\": rResultsCsv[\"phi\"].values[1:-1:2].astype(np.float)}\n",
    "\n",
    "xRmses = {\"LR\" :lrResultsCsv[\"rmse x\"].values[:-1], \"L\" :lResultsCsv[\"rmse x\"].values[:-1], \"R\": rResultsCsv[\"rmse x\"].values[:-1]}\n",
    "yRmses = {\"LR\" :lrResultsCsv[\"rmse y\"].values[:-1], \"L\" :lResultsCsv[\"rmse y\"].values[:-1], \"R\": rResultsCsv[\"rmse y\"].values[:-1]}\n",
    "xDotRmses = {\"LR\" :lrResultsCsv[\"rmse x dot\"].values[:-1], \"L\" :lResultsCsv[\"rmse x dot\"].values[:-1], \"R\": rResultsCsv[\"rmse x dot\"].values[:-1]}\n",
    "yDotRmses = {\"LR\" :lrResultsCsv[\"rmse y dot\"].values[:-1], \"L\" :lResultsCsv[\"rmse y dot\"].values[:-1], \"R\": rResultsCsv[\"rmse y dot\"].values[:-1]}\n",
    "\n",
    "xGroundTruths = {\"LR\" :lrResultsCsv[\"gt x\"].values[:-1], \"L\" :lResultsCsv[\"gt x\"].values[:-1], \"R\": rResultsCsv[\"gt x\"].values[:-1]}\n",
    "yGroundTruths = {\"LR\" :lrResultsCsv[\"gt y\"].values[:-1], \"L\" :lResultsCsv[\"gt y\"].values[:-1], \"R\": rResultsCsv[\"gt y\"].values[:-1]}\n",
    "xDotGroundTruths = {\"LR\" :lrResultsCsv[\"gt x dot\"].values[:-1], \"L\" :lResultsCsv[\"gt x dot\"].values[:-1], \"R\": rResultsCsv[\"gt x dot\"].values[:-1]}\n",
    "yDotGroundTruths = {\"LR\" :lrResultsCsv[\"gt y dot\"].values[:-1], \"L\" :lResultsCsv[\"gt y dot\"].values[:-1], \"R\": rResultsCsv[\"gt y dot\"].values[:-1]}\n"
   ]
  },
  {
   "cell_type": "code",
   "execution_count": null,
   "metadata": {},
   "outputs": [],
   "source": []
  },
  {
   "cell_type": "code",
   "execution_count": 38,
   "metadata": {},
   "outputs": [],
   "source": [
    "xyRmses = {\"LR\": np.sqrt(np.square(xRmses[\"LR\"]) + np.square(yRmses[\"LR\"])), \n",
    "          \"L\": np.sqrt(np.square(xRmses[\"L\"]) + np.square(yRmses[\"L\"])),\n",
    "          \"R\": np.sqrt(np.square(xRmses[\"R\"]) + np.square(yRmses[\"R\"])),}\n",
    "\n",
    "xyDotRmses = {\"LR\": np.sqrt(np.square(xDotRmses[\"LR\"]) + np.square(yDotRmses[\"LR\"])), \n",
    "              \"L\": np.sqrt(np.square(xDotRmses[\"L\"]) + np.square(yDotRmses[\"L\"])),\n",
    "              \"R\": np.sqrt(np.square(xDotRmses[\"R\"]) + np.square(yDotRmses[\"R\"])),}"
   ]
  },
  {
   "cell_type": "code",
   "execution_count": 5,
   "metadata": {},
   "outputs": [],
   "source": [
    "calculatedPhiStates = {\"LR\": np.arctan2(yStates[\"LR\"][1::2], xStates[\"LR\"][1::2]), \n",
    "                       \"L\": np.arctan2(yStates[\"L\"], xStates[\"L\"]), \n",
    "                       \"R\": np.arctan2(yStates[\"R\"], xStates[\"R\"])}\n"
   ]
  },
  {
   "cell_type": "code",
   "execution_count": 6,
   "metadata": {},
   "outputs": [],
   "source": [
    "# phiStates[\"R\"].size - calculatedPhiStates[\"R\"][1::2].size"
   ]
  },
  {
   "cell_type": "code",
   "execution_count": 139,
   "metadata": {},
   "outputs": [],
   "source": [
    "from scipy.stats import linregress\n",
    "\n",
    "corr = {\"LR\": None, \"L\": None, \"R\": None}\n",
    "\n",
    "# np.cov(phiStates[\"LR\"], calculatedPhiStates[\"LR\"])\n",
    "\n",
    "corr[\"LR\"] = np.cov(phiStates[\"LR\"], calculatedPhiStates[\"LR\"]) / (np.std(phiStates[\"LR\"]) * np.std(calculatedPhiStates[\"LR\"]))\n",
    "# corr[\"L\"] = np.cov(phiStates[\"L\"], calculatedPhiStates[\"L\"]) / (np.std(phiStates[\"L\"]) * np.std(calculatedPhiStates[\"L\"]))\n",
    "corr[\"R\"] = np.cov(phiStates[\"R\"], calculatedPhiStates[\"R\"][1::2]) / (np.std(phiStates[\"R\"]) * np.std(calculatedPhiStates[\"R\"][1::2]))\n",
    "\n",
    "# linregress(phiStates, calculatedPhiStates[1::2])"
   ]
  },
  {
   "cell_type": "code",
   "execution_count": 140,
   "metadata": {},
   "outputs": [
    {
     "data": {
      "text/plain": [
       "array([[1.00477007, 1.00449214],\n",
       "       [1.00449214, 1.00440427]])"
      ]
     },
     "execution_count": 140,
     "metadata": {},
     "output_type": "execute_result"
    }
   ],
   "source": [
    "corr[\"LR\"]"
   ]
  },
  {
   "cell_type": "code",
   "execution_count": 141,
   "metadata": {},
   "outputs": [
    {
     "data": {
      "text/plain": [
       "array([[1.00408156, 1.00440641],\n",
       "       [1.00440641, 1.00496841]])"
      ]
     },
     "execution_count": 141,
     "metadata": {},
     "output_type": "execute_result"
    }
   ],
   "source": [
    "corr[\"R\"]"
   ]
  },
  {
   "cell_type": "code",
   "execution_count": 27,
   "metadata": {},
   "outputs": [
    {
     "data": {
      "text/plain": [
       "438"
      ]
     },
     "execution_count": 27,
     "metadata": {},
     "output_type": "execute_result"
    }
   ],
   "source": [
    "np.linspace(start=0, stop=xRmses[\"LR\"].size, num=xRmses[\"LR\"].size)"
   ]
  },
  {
   "cell_type": "code",
   "execution_count": null,
   "metadata": {},
   "outputs": [],
   "source": []
  },
  {
   "cell_type": "code",
   "execution_count": 39,
   "metadata": {},
   "outputs": [
    {
     "data": {
      "image/png": "[encoded data removed]",
      "text/plain": [
       "<Figure size 864x504 with 1 Axes>"
      ]
     },
     "metadata": {
      "needs_background": "light"
     },
     "output_type": "display_data"
    }
   ],
   "source": [
    "title = \"Velocity RMSE\"\n",
    "\n",
    "titles = [\"State x\", \"State y\"]\n",
    "\n",
    "legendTitles = [\"Lidar + Radar\", \"Lidar Only\", \"Radar Only\",\"Ground Truth\"]\n",
    "\n",
    "# dataPointCount = len(trl6Calculator.simulatedNavPerformanceResults.scanningMileageScores)\n",
    "# xAxisData = np.linspace(start=0, stop=dataPointCount, num=int(dataPointCount))\n",
    "\n",
    "index = 0\n",
    "\n",
    "setAxesLims = False\n",
    "xLims = [0.0, 10.0]\n",
    "yLims = [-0.0, 1.5]\n",
    "\n",
    "#xAxisDataList = [xStates[\"LR\"], xStates[\"L\"], xStates[\"R\"], xGroundTruths[\"LR\"]]\n",
    "\n",
    "#xAxisDataList = [np.linspace(start=0, stop=xyRmses[\"LR\"].size, num=xyRmses[\"LR\"].size) , \n",
    "#                 np.linspace(start=0, stop=xyRmses[\"L\"].size, num=xyRmses[\"L\"].size), \n",
    "#                 np.linspace(start=0, stop=xyRmses[\"R\"].size, num=xyRmses[\"R\"].size)]\n",
    "\n",
    "xDotAxisDataList = [np.linspace(start=0, stop=xyDotRmses[\"LR\"].size, num=xyDotRmses[\"LR\"].size) , \n",
    "                    np.linspace(start=0, stop=xyDotRmses[\"L\"].size, num=xyDotRmses[\"L\"].size), \n",
    "                    np.linspace(start=0, stop=xyDotRmses[\"R\"].size, num=xyDotRmses[\"R\"].size)]\n",
    "\n",
    "#yAxisDataList = [yStates[\"LR\"], yStates[\"L\"], yStates[\"R\"], yGroundTruths[\"LR\"]]\n",
    "#yAxisDataList = [xyRmses[\"LR\"], xyRmses[\"L\"], xyRmses[\"R\"]]\n",
    "yAxisDataList = [xyDotRmses[\"LR\"], xyDotRmses[\"L\"], xyDotRmses[\"R\"]]\n",
    "\n",
    "fig, axis = plt.subplots()\n",
    "\n",
    "for xAxisData, yAxisData in zip(xAxisDataList, yAxisDataList):\n",
    "    lineStyle = \"dashed\" if (index == 3) else \"solid\"\n",
    "    \n",
    "    axis.plot(xAxisData, yAxisData, label=legendTitles[index], linestyle=lineStyle)\n",
    "    axis.legend(loc=0, fontsize=\"x-large\")\n",
    "\n",
    "    if (setAxesLims):\n",
    "        axis.set_xlim(xLims[0], xLims[1])\n",
    "        axis.set_ylim(yLims[0], yLims[1])\n",
    "    \n",
    "    index += 1\n",
    "    \n",
    "axis.set_title(title, fontsize=\"x-large\")\n",
    "\n",
    "# axis.xaxis.set_major_locator(MaxNLocator(integer=True))\n",
    "\n",
    "gridlines = axis.get_xgridlines() + axis.get_ygridlines()\n",
    "ticklabels = axis.get_xticklabels() + axis.get_yticklabels()\n",
    "\n",
    "for line in gridlines:\n",
    "    line.set_linestyle('-.')\n",
    "\n",
    "for label in ticklabels:\n",
    "    label.set_color(\"black\")\n",
    "    label.set_fontsize(13)\n",
    "\n",
    "axis.grid(b=True, which=\"both\", alpha=1.0)\n",
    "\n",
    "scaleFactor = 2.5\n",
    "fig.set_figheight(int(3*scaleFactor))\n",
    "fig.set_figwidth(int(5*scaleFactor))\n",
    "fig.tight_layout()\n",
    "\n",
    "plt.savefig(fname=\"Images/velocity-rmses-01.jpg\")\n",
    "\n",
    "plt.show()\n"
   ]
  },
  {
   "cell_type": "code",
   "execution_count": null,
   "metadata": {},
   "outputs": [],
   "source": []
  }
 ],
 "metadata": {
  "kernelspec": {
   "display_name": "Python 3",
   "language": "python",
   "name": "python3"
  },
  "language_info": {
   "codemirror_mode": {
    "name": "ipython",
    "version": 3
   },
   "file_extension": ".py",
   "mimetype": "text/x-python",
   "name": "python",
   "nbconvert_exporter": "python",
   "pygments_lexer": "ipython3",
   "version": "3.7.3"
  }
 },
 "nbformat": 4,
 "nbformat_minor": 2
}
